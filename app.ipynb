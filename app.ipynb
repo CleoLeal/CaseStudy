{
 "cells": [
  {
   "cell_type": "markdown",
   "metadata": {},
   "source": [
    "<h1><i>Estudo de caso</i></h1>\n",
    "<h5>Análisar as inconsistências</h5>"
   ]
  },
  {
   "cell_type": "code",
   "execution_count": 74,
   "metadata": {},
   "outputs": [],
   "source": [
    "#lib pandas\n",
    "import pandas as pd \n",
    "\n",
    "#lib datetime\n",
    "from datetime import datetime\n",
    "\n",
    "#configuração para mostrar toda a planilha\n",
    "pd.set_option('display.max_columns', None)\n",
    "pd.set_option('display.max_rows', None)\n"
   ]
  },
  {
   "cell_type": "code",
   "execution_count": null,
   "metadata": {},
   "outputs": [],
   "source": [
    "#salvando o excel na variável\n",
    "df = pd.read_excel('metricas.xlsx')\n",
    "\n",
    "#mostrando as 5 primeiras linhas do excel\n",
    "df.head()"
   ]
  },
  {
   "cell_type": "code",
   "execution_count": 132,
   "metadata": {},
   "outputs": [
    {
     "name": "stdout",
     "output_type": "stream",
     "text": [
      "COD_CLI                  float64\n",
      "DATA_COMPRA       datetime64[ns]\n",
      "DT_ENTREGA        datetime64[ns]\n",
      "PRODUTO                   object\n",
      "VALOR_FATURADO           float64\n",
      "LOCAL                    float64\n",
      "DATA_FORMATADA            object\n",
      "dtype: object\n"
     ]
    }
   ],
   "source": [
    "#mostrando os tipos dos dados\n",
    "print(df.dtypes)"
   ]
  },
  {
   "cell_type": "markdown",
   "metadata": {},
   "source": [
    "<h3><i>VERIFICANDO CÉLULAS EM BRANCO</i></h3>"
   ]
  },
  {
   "cell_type": "code",
   "execution_count": 45,
   "metadata": {},
   "outputs": [],
   "source": [
    "#variáveis para salvar a quantidade de células em branco em cada coluna\n",
    "cod_cli_branco = 0\n",
    "data_compra_branco = 0\n",
    "dt_entrega_branco = 0\n",
    "produto_branco = 0\n",
    "valor_faturado_branco = 0\n",
    "local_branco = 0\n"
   ]
  },
  {
   "cell_type": "code",
   "execution_count": 135,
   "metadata": {},
   "outputs": [
    {
     "name": "stdout",
     "output_type": "stream",
     "text": [
      "Linhas totais: 10000\n",
      "Linhas em branco da coluna COD_CLI: 1218\n",
      "Linhas em branco da coluna DATA_COMPRA: 0\n",
      "Linhas em branco da coluna DT_ENTREGA: 1884\n",
      "Linhas em branco da coluna PRODUTO: 5046\n",
      "Linhas em branco da coluna VALOR_FATURADO: 6972\n",
      "Linhas em branco da coluna LOCAL: 3990\n"
     ]
    }
   ],
   "source": [
    "# Loop para percorrer todas as colunas\n",
    "for coluna in df.columns:\n",
    "    # Loop para percorrer todas as linhas da coluna atual\n",
    "    for i in range(len(df[coluna])):\n",
    "        if pd.isnull(df[coluna][i]):\n",
    "            if coluna == 'COD_CLI':\n",
    "                cod_cli_branco += 1\n",
    "            elif coluna == 'DATA_COMPRA':\n",
    "                data_compra_branco += 1\n",
    "            elif coluna == 'DT_ENTREGA':\n",
    "                dt_entrega_branco += 1\n",
    "            elif coluna == 'PRODUTO':\n",
    "                produto_branco += 1\n",
    "            elif coluna == 'VALOR_FATURADO':\n",
    "                valor_faturado_branco += 1\n",
    "            elif coluna == 'LOCAL':\n",
    "                local_branco += 1\n",
    "        \n",
    "\n",
    "print(f'Linhas totais: {df.shape[0]}')\n",
    "print(f'Linhas em branco da coluna COD_CLI: {cod_cli_branco}')\n",
    "print(f'Linhas em branco da coluna DATA_COMPRA: {data_compra_branco}')\n",
    "print(f'Linhas em branco da coluna DT_ENTREGA: {dt_entrega_branco}')\n",
    "print(f'Linhas em branco da coluna PRODUTO: {produto_branco}')\n",
    "print(f'Linhas em branco da coluna VALOR_FATURADO: {valor_faturado_branco}')\n",
    "print(f'Linhas em branco da coluna LOCAL: {local_branco}')"
   ]
  },
  {
   "cell_type": "markdown",
   "metadata": {},
   "source": [
    "<h3><i>VERIFICANDO SE HÁ VALORES REPETIDOS</i></h3>"
   ]
  },
  {
   "cell_type": "code",
   "execution_count": 134,
   "metadata": {},
   "outputs": [
    {
     "name": "stdout",
     "output_type": "stream",
     "text": [
      "Na coluna COD_CLI há 8667 valores duplicados\n"
     ]
    }
   ],
   "source": [
    "#salvando na variável os duplicados\n",
    "duplicados = df['COD_CLI'].duplicated(keep=False)\n",
    "\n",
    "# mostrando os valores duplicados\n",
    "valores_duplicados = df['COD_CLI'][duplicados]\n",
    "print(f'Na coluna COD_CLI há {len(valores_duplicados)} valores duplicados')"
   ]
  },
  {
   "cell_type": "markdown",
   "metadata": {},
   "source": [
    "<h3><i>VERIFICANDO DATA DE COMPRA E DE ENTREGA</i></h3>"
   ]
  },
  {
   "cell_type": "code",
   "execution_count": 105,
   "metadata": {},
   "outputs": [
    {
     "name": "stdout",
     "output_type": "stream",
     "text": [
      "Houveram 366 entregas antes da compra realizada.\n"
     ]
    }
   ],
   "source": [
    "# Converter as colunas para datetime\n",
    "df['DATA_COMPRA'] = pd.to_datetime(df['DATA_COMPRA'])\n",
    "df['DT_ENTREGA'] = pd.to_datetime(df['DT_ENTREGA'], errors='coerce')\n",
    "\n",
    "# Contar quantas entregas ocorreram antes da compra\n",
    "quantidade_entregas_apos_compra = (df['DT_ENTREGA'] < df['DATA_COMPRA']).sum()\n",
    "print(f'Houveram {quantidade_entregas_apos_compra} entregas antes da compra realizada.')"
   ]
  },
  {
   "cell_type": "markdown",
   "metadata": {},
   "source": [
    "<h3><i>VERIFICANDO CÓDIGO PRODUTO</i></h3>"
   ]
  },
  {
   "cell_type": "code",
   "execution_count": null,
   "metadata": {},
   "outputs": [],
   "source": [
    "#sheet base produtos\n",
    "df_produtos = pd.read_excel('metricas.xlsx', sheet_name=2, header=None)\n",
    "df_produtos"
   ]
  },
  {
   "cell_type": "code",
   "execution_count": 127,
   "metadata": {},
   "outputs": [
    {
     "name": "stdout",
     "output_type": "stream",
     "text": [
      "Quantidade de códigos diferentes: 2948\n"
     ]
    }
   ],
   "source": [
    "# Inicializa um contador para a quantidade de códigos diferentes\n",
    "cod_diferente = 0\n",
    "\n",
    "# Itera sobre as linhas da primeira planilha\n",
    "for index, row in df.iterrows():\n",
    "    # Obtém o código de produto da linha atual\n",
    "    codigo = row['PRODUTO']\n",
    "    \n",
    "    # Verifica se o código não está presente na segunda planilha\n",
    "    if codigo not in df_produtos[0].values:\n",
    "        cod_diferente += 1\n",
    "\n",
    "print(f'Quantidade de códigos diferentes: {cod_diferente}')"
   ]
  },
  {
   "cell_type": "markdown",
   "metadata": {},
   "source": [
    "<h3><i>VERIFICANDO LOCAL</i></h3>"
   ]
  },
  {
   "cell_type": "code",
   "execution_count": null,
   "metadata": {},
   "outputs": [],
   "source": [
    "#sheet base local\n",
    "df_local = pd.read_excel('metricas.xlsx', sheet_name=1, header=None)\n",
    "df_local"
   ]
  },
  {
   "cell_type": "code",
   "execution_count": 131,
   "metadata": {},
   "outputs": [
    {
     "name": "stdout",
     "output_type": "stream",
     "text": [
      "Quantidade de códigos diferentes: 5301\n"
     ]
    }
   ],
   "source": [
    "# Inicializa um contador para a quantidade de códigos diferentes\n",
    "local_diferente = 0\n",
    "\n",
    "# Itera sobre as linhas da primeira planilha\n",
    "for index, row in df.iterrows():\n",
    "    # Obtém o código de produto da linha atual\n",
    "    codigo = row['LOCAL']\n",
    "    \n",
    "    # Verifica se o código não está presente na segunda planilha\n",
    "    if codigo not in df_local[0].values:\n",
    "        local_diferente += 1\n",
    "\n",
    "print(f'Quantidade de códigos diferentes: {local_diferente}')"
   ]
  }
 ],
 "metadata": {
  "kernelspec": {
   "display_name": "Python 3",
   "language": "python",
   "name": "python3"
  },
  "language_info": {
   "codemirror_mode": {
    "name": "ipython",
    "version": 3
   },
   "file_extension": ".py",
   "mimetype": "text/x-python",
   "name": "python",
   "nbconvert_exporter": "python",
   "pygments_lexer": "ipython3",
   "version": "3.11.8"
  }
 },
 "nbformat": 4,
 "nbformat_minor": 2
}
